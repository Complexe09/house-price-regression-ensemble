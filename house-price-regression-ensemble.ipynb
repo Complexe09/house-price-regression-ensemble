{
 "cells": [
  {
   "cell_type": "code",
   "execution_count": 1,
   "id": "b108eb64",
   "metadata": {
    "_cell_guid": "b1076dfc-b9ad-4769-8c92-a6c4dae69d19",
    "_uuid": "8f2839f25d086af736a60e9eeb907d3b93b6e0e5",
    "execution": {
     "iopub.execute_input": "2025-07-01T17:34:38.845306Z",
     "iopub.status.busy": "2025-07-01T17:34:38.845022Z",
     "iopub.status.idle": "2025-07-01T17:34:42.822125Z",
     "shell.execute_reply": "2025-07-01T17:34:42.821140Z"
    },
    "papermill": {
     "duration": 3.982219,
     "end_time": "2025-07-01T17:34:42.823452",
     "exception": false,
     "start_time": "2025-07-01T17:34:38.841233",
     "status": "completed"
    },
    "tags": []
   },
   "outputs": [
    {
     "name": "stdout",
     "output_type": "stream",
     "text": [
      "/kaggle/input/house-prices-advanced-regression-techniques/sample_submission.csv\n",
      "/kaggle/input/house-prices-advanced-regression-techniques/data_description.txt\n",
      "/kaggle/input/house-prices-advanced-regression-techniques/train.csv\n",
      "/kaggle/input/house-prices-advanced-regression-techniques/test.csv\n"
     ]
    }
   ],
   "source": [
    "import numpy as np # linear algebra\n",
    "import pandas as pd # data processing, CSV file I/O (e.g. pd.read_csv)\n",
    "from sklearn.model_selection import train_test_split\n",
    "from sklearn.linear_model import LinearRegression\n",
    "from sklearn.metrics import mean_squared_error, r2_score\n",
    "from sklearn.preprocessing import StandardScaler, OneHotEncoder\n",
    "from sklearn.compose import ColumnTransformer\n",
    "from sklearn.pipeline import Pipeline\n",
    "from sklearn.impute import SimpleImputer\n",
    "import matplotlib.pyplot as plt\n",
    "import seaborn as sns\n",
    "from sklearn.linear_model import RidgeCV\n",
    "from sklearn.ensemble import RandomForestRegressor\n",
    "from sklearn.ensemble import HistGradientBoostingRegressor\n",
    "\n",
    "import os\n",
    "for dirname, _, filenames in os.walk('/kaggle/input'):\n",
    "    for filename in filenames:\n",
    "        print(os.path.join(dirname, filename))\n",
    "\n",
    "# You can write up to 20GB to the current directory (/kaggle/working/) that gets preserved as output when you create a version using \"Save & Run All\" \n",
    "# You can also write temporary files to /kaggle/temp/, but they won't be saved outside of the current session"
   ]
  },
  {
   "cell_type": "code",
   "execution_count": 2,
   "id": "e91ef61e",
   "metadata": {
    "execution": {
     "iopub.execute_input": "2025-07-01T17:34:42.829248Z",
     "iopub.status.busy": "2025-07-01T17:34:42.828844Z",
     "iopub.status.idle": "2025-07-01T17:34:42.833381Z",
     "shell.execute_reply": "2025-07-01T17:34:42.832681Z"
    },
    "papermill": {
     "duration": 0.008345,
     "end_time": "2025-07-01T17:34:42.834521",
     "exception": false,
     "start_time": "2025-07-01T17:34:42.826176",
     "status": "completed"
    },
    "tags": []
   },
   "outputs": [],
   "source": [
    "from sklearn.metrics import mean_absolute_error, mean_squared_error, r2_score\n",
    "\n",
    "def evaluate(y_true, y_pred):\n",
    "    print(f\"MAE: ${mean_absolute_error(y_true, y_pred):,.3f}\")\n",
    "    print(f\"RMSE: ${mean_squared_error(y_true, y_pred, squared=False):,.3f}\")\n",
    "    print(f\"R²: {r2_score(y_true, y_pred):.3f}\")\n"
   ]
  },
  {
   "cell_type": "code",
   "execution_count": 3,
   "id": "dd4a681d",
   "metadata": {
    "execution": {
     "iopub.execute_input": "2025-07-01T17:34:42.839301Z",
     "iopub.status.busy": "2025-07-01T17:34:42.839057Z",
     "iopub.status.idle": "2025-07-01T17:34:42.845779Z",
     "shell.execute_reply": "2025-07-01T17:34:42.845193Z"
    },
    "papermill": {
     "duration": 0.010343,
     "end_time": "2025-07-01T17:34:42.846884",
     "exception": false,
     "start_time": "2025-07-01T17:34:42.836541",
     "status": "completed"
    },
    "tags": []
   },
   "outputs": [],
   "source": [
    "# Feature engineering function\n",
    "def create_features(df):\n",
    "    # Original top features plus any needed for engineering\n",
    "    base_features = [\n",
    "        'OverallQual', 'Neighborhood', 'GrLivArea', 'TotalBsmtSF', 'GarageArea',\n",
    "        'YearBuilt', 'GarageCars', 'BsmtQual', 'ExterQual', 'KitchenQual',\n",
    "        'GarageYrBlt', 'MSSubClass', 'GarageFinish', 'YearRemodAdd', \n",
    "        'TotRmsAbvGrd', 'LotFrontage', 'YrSold', '1stFlrSF', '2ndFlrSF',\n",
    "        'FullBath', 'HalfBath', 'BsmtFullBath', 'BsmtHalfBath'  # Added for feature engineering\n",
    "    ]\n",
    "    \n",
    "    # Create new features\n",
    "    df = df.copy()  # Create a copy to avoid SettingWithCopyWarning\n",
    "    df['TotalSF'] = np.log1p(df['TotalBsmtSF'] + df['1stFlrSF'] + df['2ndFlrSF'])\n",
    "    df['Age'] = (df['YrSold'] - df['YearBuilt'])**2\n",
    "    df['TotalBath'] = df['FullBath'] + 0.5*df['HalfBath'] + df['BsmtFullBath'] + 0.5*df['BsmtHalfBath']\n",
    "    df['QualxArea'] = df['OverallQual'] * df['GrLivArea']\n",
    "    df['HasPool'] = (df['PoolArea'] > 0).astype(int)\n",
    "    df['HasFireplace'] = (df['Fireplaces'] > 0).astype(int)\n",
    "    df['LotFrontage'] = np.log1p(df['LotFrontage'].fillna(df['LotFrontage'].median()))\n",
    "    \n",
    "    # Final selected features\n",
    "    selected_features = [\n",
    "        'OverallQual', 'Neighborhood', 'GrLivArea', 'TotalBsmtSF', 'GarageArea',\n",
    "        'YearBuilt', 'GarageCars', 'BsmtQual', 'ExterQual', 'KitchenQual',\n",
    "        'GarageYrBlt', 'MSSubClass', 'GarageFinish', 'YearRemodAdd',\n",
    "        'TotRmsAbvGrd', 'LotFrontage', 'TotalSF', 'Age', \n",
    "        'TotalBath', 'QualxArea', 'HasPool', 'HasFireplace'\n",
    "    ]\n",
    "    \n",
    "    return df[selected_features]"
   ]
  },
  {
   "cell_type": "code",
   "execution_count": 4,
   "id": "629bad20",
   "metadata": {
    "execution": {
     "iopub.execute_input": "2025-07-01T17:34:42.852282Z",
     "iopub.status.busy": "2025-07-01T17:34:42.852036Z",
     "iopub.status.idle": "2025-07-01T17:34:59.945797Z",
     "shell.execute_reply": "2025-07-01T17:34:59.945030Z"
    },
    "papermill": {
     "duration": 17.098564,
     "end_time": "2025-07-01T17:34:59.947556",
     "exception": false,
     "start_time": "2025-07-01T17:34:42.848992",
     "status": "completed"
    },
    "tags": []
   },
   "outputs": [
    {
     "name": "stdout",
     "output_type": "stream",
     "text": [
      "Stacked Ensemble RMSE: 0.1426\n"
     ]
    }
   ],
   "source": [
    "# Load the data\n",
    "data = pd.read_csv('/kaggle/input/house-prices-advanced-regression-techniques/train.csv')  # Replace with your actual file path\n",
    "test = pd.read_csv('/kaggle/input/house-prices-advanced-regression-techniques/test.csv')\n",
    "# Define target variable (log transform)\n",
    "y = np.log(data['SalePrice'])\n",
    "X = data.drop(['SalePrice', 'Id'], axis=1)  # Remove ID as it's not a feature\n",
    "\n",
    "# Filter features\n",
    "X = create_features(data)\n",
    "\n",
    "\n",
    "# Split data\n",
    "X_train, X_test, y_train, y_test = train_test_split(X, y, test_size=0.2, random_state=42)\n",
    "\n",
    "# Identify categorical and numerical columns\n",
    "categorical_cols = [col for col in X_train.columns if X_train[col].dtype == 'object']\n",
    "numerical_cols = [col for col in X_train.columns if X_train[col].dtype in ['int64', 'float64']]\n",
    "\n",
    "from sklearn.ensemble import RandomForestRegressor\n",
    "from xgboost import XGBRegressor\n",
    "from sklearn.ensemble import StackingRegressor\n",
    "\n",
    "# Define preprocessing for Ridge model (needs scaling + one-hot)\n",
    "numerical_transformer = Pipeline([\n",
    "    ('imputer', SimpleImputer(strategy='median')),\n",
    "    ('scaler', StandardScaler())\n",
    "])\n",
    "\n",
    "categorical_transformer = Pipeline([\n",
    "    ('imputer', SimpleImputer(strategy='most_frequent')),\n",
    "    ('onehot', OneHotEncoder(handle_unknown='ignore'))\n",
    "])\n",
    "\n",
    "preprocessor = ColumnTransformer([\n",
    "    ('num', numerical_transformer, numerical_cols),\n",
    "    ('cat', categorical_transformer, categorical_cols)\n",
    "])\n",
    "\n",
    "# For RF and XGB (no scaling needed)\n",
    "num_simple = Pipeline([\n",
    "    ('imputer', SimpleImputer(strategy='median'))\n",
    "])\n",
    "\n",
    "cat_simple = Pipeline([\n",
    "    ('imputer', SimpleImputer(strategy='most_frequent')),\n",
    "    ('onehot', OneHotEncoder(handle_unknown='ignore'))\n",
    "])\n",
    "\n",
    "preprocessor_gb = ColumnTransformer([\n",
    "    ('num', num_simple, numerical_cols),\n",
    "    ('cat', cat_simple, categorical_cols)\n",
    "])\n",
    "\n",
    "\n",
    "# Individual Models\n",
    "ridge_model = Pipeline(steps=[\n",
    "    ('preprocessor', preprocessor),\n",
    "    ('regressor', RidgeCV(alphas=np.logspace(-3, 3, 50), cv=5))\n",
    "])\n",
    "\n",
    "rf_model = Pipeline(steps=[\n",
    "    ('preprocessor', preprocessor_gb),  # Using GB preprocessor\n",
    "    ('regressor', RandomForestRegressor(\n",
    "        n_estimators=300,\n",
    "        max_depth=10,\n",
    "        min_samples_leaf=5,\n",
    "        random_state=42\n",
    "    ))\n",
    "])\n",
    "\n",
    "xgb_model = Pipeline(steps=[\n",
    "    ('preprocessor', preprocessor_gb),  # Using GB preprocessor\n",
    "    ('regressor', XGBRegressor(\n",
    "        n_estimators=500,\n",
    "        learning_rate=0.05,\n",
    "        max_depth=5,\n",
    "        subsample=0.8,\n",
    "        random_state=42\n",
    "    ))\n",
    "])\n",
    "\n",
    "model = StackingRegressor(\n",
    "    estimators=[\n",
    "        ('ridge', ridge_model),\n",
    "        ('rf', rf_model),\n",
    "        ('xgb', xgb_model)\n",
    "    ],\n",
    "    final_estimator=RidgeCV()\n",
    ")\n",
    "\n",
    "model.fit(X_train, y_train)\n",
    "y_pred = model.predict(X_test)\n",
    "rmse_stack = np.sqrt(mean_squared_error(y_test, y_pred))\n",
    "print(f\"Stacked Ensemble RMSE: {rmse_stack:.4f}\")"
   ]
  },
  {
   "cell_type": "code",
   "execution_count": 5,
   "id": "336e369c",
   "metadata": {
    "execution": {
     "iopub.execute_input": "2025-07-01T17:34:59.954239Z",
     "iopub.status.busy": "2025-07-01T17:34:59.953945Z",
     "iopub.status.idle": "2025-07-01T17:34:59.960881Z",
     "shell.execute_reply": "2025-07-01T17:34:59.959896Z"
    },
    "papermill": {
     "duration": 0.011666,
     "end_time": "2025-07-01T17:34:59.962219",
     "exception": false,
     "start_time": "2025-07-01T17:34:59.950553",
     "status": "completed"
    },
    "tags": []
   },
   "outputs": [
    {
     "name": "stdout",
     "output_type": "stream",
     "text": [
      "MAE: $0.094\n",
      "RMSE: $0.143\n",
      "R²: 0.891\n"
     ]
    }
   ],
   "source": [
    "evaluate(y_test, y_pred)"
   ]
  },
  {
   "cell_type": "code",
   "execution_count": 6,
   "id": "565d43cd",
   "metadata": {
    "execution": {
     "iopub.execute_input": "2025-07-01T17:34:59.967910Z",
     "iopub.status.busy": "2025-07-01T17:34:59.967288Z",
     "iopub.status.idle": "2025-07-01T17:35:00.062275Z",
     "shell.execute_reply": "2025-07-01T17:35:00.058950Z"
    },
    "papermill": {
     "duration": 0.099586,
     "end_time": "2025-07-01T17:35:00.064202",
     "exception": false,
     "start_time": "2025-07-01T17:34:59.964616",
     "status": "completed"
    },
    "tags": []
   },
   "outputs": [
    {
     "name": "stdout",
     "output_type": "stream",
     "text": [
      "Submission file created: submission.csv\n"
     ]
    },
    {
     "name": "stderr",
     "output_type": "stream",
     "text": [
      "/usr/local/lib/python3.11/dist-packages/pandas/core/arraylike.py:399: RuntimeWarning: invalid value encountered in log1p\n",
      "  result = getattr(ufunc, method)(*inputs, **kwargs)\n"
     ]
    }
   ],
   "source": [
    "test_ids = test['Id']\n",
    "X_submit = create_features(test).copy()\n",
    "y_submit_log = model.predict(X_submit)\n",
    "y_submit = np.exp(y_submit_log)  # Undo log transformation\n",
    "\n",
    "submission = pd.DataFrame({\n",
    "    'Id': test_ids,\n",
    "    'SalePrice': y_submit\n",
    "})\n",
    "submission.to_csv('submission.csv', index=False)\n",
    "print(\"Submission file created: submission.csv\")"
   ]
  },
  {
   "cell_type": "code",
   "execution_count": null,
   "id": "7491f999",
   "metadata": {
    "papermill": {
     "duration": 0.002095,
     "end_time": "2025-07-01T17:35:00.068834",
     "exception": false,
     "start_time": "2025-07-01T17:35:00.066739",
     "status": "completed"
    },
    "tags": []
   },
   "outputs": [],
   "source": []
  }
 ],
 "metadata": {
  "kaggle": {
   "accelerator": "none",
   "dataSources": [
    {
     "databundleVersionId": 868283,
     "sourceId": 5407,
     "sourceType": "competition"
    }
   ],
   "dockerImageVersionId": 31040,
   "isGpuEnabled": false,
   "isInternetEnabled": false,
   "language": "python",
   "sourceType": "notebook"
  },
  "kernelspec": {
   "display_name": "Python 3",
   "language": "python",
   "name": "python3"
  },
  "language_info": {
   "codemirror_mode": {
    "name": "ipython",
    "version": 3
   },
   "file_extension": ".py",
   "mimetype": "text/x-python",
   "name": "python",
   "nbconvert_exporter": "python",
   "pygments_lexer": "ipython3",
   "version": "3.11.11"
  },
  "papermill": {
   "default_parameters": {},
   "duration": 26.436923,
   "end_time": "2025-07-01T17:35:00.791211",
   "environment_variables": {},
   "exception": null,
   "input_path": "__notebook__.ipynb",
   "output_path": "__notebook__.ipynb",
   "parameters": {},
   "start_time": "2025-07-01T17:34:34.354288",
   "version": "2.6.0"
  }
 },
 "nbformat": 4,
 "nbformat_minor": 5
}
